{
 "cells": [
  {
   "cell_type": "markdown",
   "id": "f5773c08",
   "metadata": {},
   "source": [
    "## Reading Shimadzu meassurements"
   ]
  },
  {
   "cell_type": "code",
   "execution_count": 2,
   "id": "76ffa084",
   "metadata": {},
   "outputs": [],
   "source": [
    "from empylib.spectrometry import read_uvvis"
   ]
  },
  {
   "cell_type": "code",
   "execution_count": 3,
   "id": "59abce70",
   "metadata": {},
   "outputs": [
    {
     "data": {
      "text/html": [
       "<div>\n",
       "<style scoped>\n",
       "    .dataframe tbody tr th:only-of-type {\n",
       "        vertical-align: middle;\n",
       "    }\n",
       "\n",
       "    .dataframe tbody tr th {\n",
       "        vertical-align: top;\n",
       "    }\n",
       "\n",
       "    .dataframe thead th {\n",
       "        text-align: right;\n",
       "    }\n",
       "</style>\n",
       "<table border=\"1\" class=\"dataframe\">\n",
       "  <thead>\n",
       "    <tr style=\"text-align: right;\">\n",
       "      <th></th>\n",
       "      <th>Tdif</th>\n",
       "    </tr>\n",
       "    <tr>\n",
       "      <th>wavelength (µm)</th>\n",
       "      <th></th>\n",
       "    </tr>\n",
       "  </thead>\n",
       "  <tbody>\n",
       "    <tr>\n",
       "      <th>0.220</th>\n",
       "      <td>0.00124</td>\n",
       "    </tr>\n",
       "    <tr>\n",
       "      <th>0.221</th>\n",
       "      <td>0.00130</td>\n",
       "    </tr>\n",
       "    <tr>\n",
       "      <th>0.222</th>\n",
       "      <td>0.00132</td>\n",
       "    </tr>\n",
       "    <tr>\n",
       "      <th>0.223</th>\n",
       "      <td>0.00116</td>\n",
       "    </tr>\n",
       "    <tr>\n",
       "      <th>0.224</th>\n",
       "      <td>0.00094</td>\n",
       "    </tr>\n",
       "  </tbody>\n",
       "</table>\n",
       "</div>"
      ],
      "text/plain": [
       "                    Tdif\n",
       "wavelength (µm)         \n",
       "0.220            0.00124\n",
       "0.221            0.00130\n",
       "0.222            0.00132\n",
       "0.223            0.00116\n",
       "0.224            0.00094"
      ]
     },
     "execution_count": 3,
     "metadata": {},
     "output_type": "execute_result"
    }
   ],
   "source": [
    "df = read_uvvis(\"Tdif_PMMA_1fv_CaCO3.txt\", col2_name = \"Tdif\")\n",
    "df.head()"
   ]
  },
  {
   "cell_type": "code",
   "execution_count": 4,
   "id": "398a4236",
   "metadata": {},
   "outputs": [
    {
     "data": {
      "text/plain": [
       "{'instrument': 'Shimadzu', 'sample_name': None}"
      ]
     },
     "execution_count": 4,
     "metadata": {},
     "output_type": "execute_result"
    }
   ],
   "source": [
    "df.attrs"
   ]
  },
  {
   "cell_type": "markdown",
   "id": "93452561",
   "metadata": {},
   "source": [
    "## Reading Perkin Elmer spectrophotometry"
   ]
  },
  {
   "cell_type": "code",
   "execution_count": 5,
   "id": "5ead9ed8",
   "metadata": {},
   "outputs": [
    {
     "data": {
      "text/html": [
       "<div>\n",
       "<style scoped>\n",
       "    .dataframe tbody tr th:only-of-type {\n",
       "        vertical-align: middle;\n",
       "    }\n",
       "\n",
       "    .dataframe tbody tr th {\n",
       "        vertical-align: top;\n",
       "    }\n",
       "\n",
       "    .dataframe thead th {\n",
       "        text-align: right;\n",
       "    }\n",
       "</style>\n",
       "<table border=\"1\" class=\"dataframe\">\n",
       "  <thead>\n",
       "    <tr style=\"text-align: right;\">\n",
       "      <th></th>\n",
       "      <th>Rtot</th>\n",
       "    </tr>\n",
       "    <tr>\n",
       "      <th>wavelength (µm)</th>\n",
       "      <th></th>\n",
       "    </tr>\n",
       "  </thead>\n",
       "  <tbody>\n",
       "    <tr>\n",
       "      <th>2.500</th>\n",
       "      <td>0.010696</td>\n",
       "    </tr>\n",
       "    <tr>\n",
       "      <th>2.495</th>\n",
       "      <td>0.013704</td>\n",
       "    </tr>\n",
       "    <tr>\n",
       "      <th>2.490</th>\n",
       "      <td>0.006373</td>\n",
       "    </tr>\n",
       "    <tr>\n",
       "      <th>2.485</th>\n",
       "      <td>0.011535</td>\n",
       "    </tr>\n",
       "    <tr>\n",
       "      <th>2.480</th>\n",
       "      <td>0.005792</td>\n",
       "    </tr>\n",
       "  </tbody>\n",
       "</table>\n",
       "</div>"
      ],
      "text/plain": [
       "                     Rtot\n",
       "wavelength (µm)          \n",
       "2.500            0.010696\n",
       "2.495            0.013704\n",
       "2.490            0.006373\n",
       "2.485            0.011535\n",
       "2.480            0.005792"
      ]
     },
     "execution_count": 5,
     "metadata": {},
     "output_type": "execute_result"
    }
   ],
   "source": [
    "df = read_uvvis(\"PSF - MgO - 0.1%.Sample - UV DRS Reflectance.asc\", col2_name= \"Rtot\")\n",
    "df.head()"
   ]
  },
  {
   "cell_type": "markdown",
   "id": "a8a15120",
   "metadata": {},
   "source": [
    "## Extracting bundle meassurements\n"
   ]
  },
  {
   "cell_type": "code",
   "execution_count": 8,
   "id": "3dbb7155",
   "metadata": {},
   "outputs": [
    {
     "data": {
      "text/html": [
       "<div>\n",
       "<style scoped>\n",
       "    .dataframe tbody tr th:only-of-type {\n",
       "        vertical-align: middle;\n",
       "    }\n",
       "\n",
       "    .dataframe tbody tr th {\n",
       "        vertical-align: top;\n",
       "    }\n",
       "\n",
       "    .dataframe thead th {\n",
       "        text-align: right;\n",
       "    }\n",
       "</style>\n",
       "<table border=\"1\" class=\"dataframe\">\n",
       "  <thead>\n",
       "    <tr style=\"text-align: right;\">\n",
       "      <th></th>\n",
       "      <th>Tdif</th>\n",
       "      <th>Tspec</th>\n",
       "      <th>Ttot</th>\n",
       "    </tr>\n",
       "    <tr>\n",
       "      <th>wavelength (µm)</th>\n",
       "      <th></th>\n",
       "      <th></th>\n",
       "      <th></th>\n",
       "    </tr>\n",
       "  </thead>\n",
       "  <tbody>\n",
       "    <tr>\n",
       "      <th>0.220</th>\n",
       "      <td>0.00124</td>\n",
       "      <td>0.00040</td>\n",
       "      <td>0.00164</td>\n",
       "    </tr>\n",
       "    <tr>\n",
       "      <th>0.221</th>\n",
       "      <td>0.00130</td>\n",
       "      <td>0.00025</td>\n",
       "      <td>0.00155</td>\n",
       "    </tr>\n",
       "    <tr>\n",
       "      <th>0.222</th>\n",
       "      <td>0.00132</td>\n",
       "      <td>0.00017</td>\n",
       "      <td>0.00149</td>\n",
       "    </tr>\n",
       "    <tr>\n",
       "      <th>0.223</th>\n",
       "      <td>0.00116</td>\n",
       "      <td>0.00021</td>\n",
       "      <td>0.00137</td>\n",
       "    </tr>\n",
       "    <tr>\n",
       "      <th>0.224</th>\n",
       "      <td>0.00094</td>\n",
       "      <td>0.00044</td>\n",
       "      <td>0.00138</td>\n",
       "    </tr>\n",
       "  </tbody>\n",
       "</table>\n",
       "</div>"
      ],
      "text/plain": [
       "                    Tdif    Tspec     Ttot\n",
       "wavelength (µm)                           \n",
       "0.220            0.00124  0.00040  0.00164\n",
       "0.221            0.00130  0.00025  0.00155\n",
       "0.222            0.00132  0.00017  0.00149\n",
       "0.223            0.00116  0.00021  0.00137\n",
       "0.224            0.00094  0.00044  0.00138"
      ]
     },
     "execution_count": 8,
     "metadata": {},
     "output_type": "execute_result"
    }
   ],
   "source": [
    "from empylib.spectrometry import sample_uvvis\n",
    "\n",
    "sample = sample_uvvis(sample = 'PMMA_1fv_CaCO3')\n",
    "sample.head()"
   ]
  },
  {
   "cell_type": "code",
   "execution_count": 9,
   "id": "473ef4f1",
   "metadata": {},
   "outputs": [
    {
     "data": {
      "text/plain": [
       "{'instrument': 'Shimadzu', 'sample_name': 'PMMA_1fv_CaCO3'}"
      ]
     },
     "execution_count": 9,
     "metadata": {},
     "output_type": "execute_result"
    }
   ],
   "source": [
    "sample.attrs"
   ]
  },
  {
   "cell_type": "code",
   "execution_count": 11,
   "id": "49afd61a",
   "metadata": {},
   "outputs": [
    {
     "data": {
      "text/plain": [
       "(0.0, 1.0)"
      ]
     },
     "execution_count": 11,
     "metadata": {},
     "output_type": "execute_result"
    },
    {
     "data": {
      "image/png": "[encoded data removed]",
      "text/plain": [
       "<Figure size 640x480 with 1 Axes>"
      ]
     },
     "metadata": {},
     "output_type": "display_data"
    }
   ],
   "source": [
    "ax = sample.plot(\n",
    "   style={'Tdif': '--k', \n",
    "          'Tspec': ':k', \n",
    "          'Ttot': '-k'},\n",
    "   title = sample.attrs['sample_name'],\n",
    "   ylabel = 'Transmittance'\n",
    ")\n",
    "ax.set_ylim(0,1)\n"
   ]
  },
  {
   "cell_type": "code",
   "execution_count": null,
   "id": "56350995",
   "metadata": {},
   "outputs": [],
   "source": []
  }
 ],
 "metadata": {
  "kernelspec": {
   "display_name": "base",
   "language": "python",
   "name": "python3"
  },
  "language_info": {
   "codemirror_mode": {
    "name": "ipython",
    "version": 3
   },
   "file_extension": ".py",
   "mimetype": "text/x-python",
   "name": "python",
   "nbconvert_exporter": "python",
   "pygments_lexer": "ipython3",
   "version": "3.11.6"
  }
 },
 "nbformat": 4,
 "nbformat_minor": 5
}
